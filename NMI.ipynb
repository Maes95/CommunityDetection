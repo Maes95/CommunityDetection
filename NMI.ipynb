{
 "cells": [
  {
   "cell_type": "code",
   "execution_count": null,
   "metadata": {
    "colab": {
     "base_uri": "https://localhost:8080/",
     "height": 35346
    },
    "colab_type": "code",
    "id": "IvEYZKSOZOca",
    "outputId": "746b7a93-c7f3-45c8-d569-606b9254a63c"
   },
   "outputs": [],
   "source": [
    "import sklearn as sk\n",
    "import sklearn.metrics\n",
    "import pandas as pd\n",
    "import ast\n",
    "import os\n",
    "import re\n",
    "from collections import defaultdict\n",
    "regex = re.compile('community_*.*.dat')\n",
    "dir = '/content'\n",
    "\n",
    "for dirName, folders, fname in os.walk(dir):\n",
    "    files = [f for f in fname if not f[0] == '.' and regex.match(f)]\n",
    "    for fn in files:\n",
    "        print('Reading \"{name}\"...'.format(name=fn))\n",
    "        size = int(fn.split(\"_\")[1])\n",
    "        nodes_in_community_gt = [0]*size\n",
    "        df = pd.read_csv(fn, sep='\\t', header=None, engine = 'python')\n",
    "\n",
    "        for i in range(0, df.shape[0]):\n",
    "          #nodes_in_community_gt[df.loc[i, 1]].append(df.loc[i,0])\n",
    "          nodes_in_community_gt[df.loc[i, 0]-1] = df.loc[i,1]\n",
    "        #print(nodes_in_community_gt)\n",
    "        fileToCompare = fn.split(\".dat\")[0]+\"network.txt\"\n",
    "        maxNMI = 0.0;\n",
    "        with open(fileToCompare, 'r') as f:\n",
    "            sol = f.readline()\n",
    "            while sol:\n",
    "                mysol = ast.literal_eval(sol)\n",
    "                print(\"Evaluating \"+str(mysol)+\" with gt \"+str(nodes_in_community_gt))\n",
    "                actNMI = sk.metrics.normalized_mutual_info_score(nodes_in_community_gt, mysol, 'arithmetic')\n",
    "                print(\"NMI: \"+str(actNMI))\n",
    "                if(actNMI > maxNMI):\n",
    "                    maxNMI = actNMI\n",
    "                    bestSol = mysol\n",
    "                sol = f.readline()\n",
    "\n",
    "        fileToSave = \"/content/\"+fn.split(\".dat\")[0]+\"_MyBestSol.txt\"\n",
    "        open(fileToSave, 'w').write(str(bestSol)+\" NMI: \"+str(maxNMI))\n",
    "        nodes_in_community_gt.clear()"
   ]
  },
  {
   "cell_type": "code",
   "execution_count": null,
   "metadata": {
    "colab": {},
    "colab_type": "code",
    "collapsed": true,
    "id": "pbgE2lrniUTd"
   },
   "outputs": [],
   "source": [
    "sk.metrics.normalized_mutual_info_score([], [])"
   ]
  }
 ],
 "metadata": {
  "colab": {
   "collapsed_sections": [],
   "name": "NMI.ipynb",
   "provenance": [],
   "version": "0.3.2"
  },
  "kernelspec": {
   "display_name": "Python 3",
   "language": "python",
   "name": "python3"
  },
  "language_info": {
   "codemirror_mode": {
    "name": "ipython",
    "version": 3
   },
   "file_extension": ".py",
   "mimetype": "text/x-python",
   "name": "python",
   "nbconvert_exporter": "python",
   "pygments_lexer": "ipython3",
   "version": "3.6.2"
  }
 },
 "nbformat": 4,
 "nbformat_minor": 1
}
