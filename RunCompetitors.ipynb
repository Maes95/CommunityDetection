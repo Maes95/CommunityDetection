{
 "cells": [
  {
   "cell_type": "code",
   "execution_count": 1,
   "metadata": {
    "collapsed": true
   },
   "outputs": [],
   "source": [
    "from igraph import *\n",
    "from os import listdir\n",
    "from os.path import isfile, join\n",
    "import time\n",
    "import csv"
   ]
  },
  {
   "cell_type": "code",
   "execution_count": 2,
   "metadata": {
    "collapsed": true
   },
   "outputs": [],
   "source": [
    "instances=[]\n",
    "for file in [f for f in listdir(\"graphs/test/\") if isfile(join(\"graphs/test/\", f))]:\n",
    "    G = Graph()\n",
    "    filepath=\"graphs/test/\"+file\n",
    "    with open(filepath) as fp:  \n",
    "        line = fp.readline()\n",
    "        num_vertex = int(line.strip().split(\" \")[0])\n",
    "        for i in range(0,num_vertex):\n",
    "            G.add_vertex(i)\n",
    "        while line:\n",
    "            line = fp.readline()\n",
    "            if not line:\n",
    "                break\n",
    "            edge = line.strip().split(\" \")\n",
    "            A = int(edge[0])\n",
    "            B = int(edge[1])\n",
    "            if not G.are_connected(A,B):\n",
    "                G.add_edge(A,B)\n",
    "    instances.append({ \"file\": file, \"graph\": G})"
   ]
  },
  {
   "cell_type": "code",
   "execution_count": 3,
   "metadata": {
    "collapsed": true
   },
   "outputs": [],
   "source": [
    "def fast_greedy(g):\n",
    "    result = []\n",
    "    for i in range(0,g.vcount()):\n",
    "        result.append(0)\n",
    "    start = round(time.time()* 1000)\n",
    "    communities = g.community_fastgreedy().as_clustering()\n",
    "    exec_time = start = round(time.time()* 1000) - start\n",
    "    for i in range(0,len(communities)):\n",
    "        for j in communities[i]:\n",
    "            result[j] = i\n",
    "    return \"fast_greedy\", result, exec_time"
   ]
  },
  {
   "cell_type": "code",
   "execution_count": 4,
   "metadata": {
    "collapsed": true
   },
   "outputs": [],
   "source": [
    "def eigenvector(g):\n",
    "    result = []\n",
    "    for i in range(0,g.vcount()):\n",
    "        result.append(0)\n",
    "    start = round(time.time()* 1000)\n",
    "    communities = g.community_leading_eigenvector()\n",
    "    exec_time = start = round(time.time()* 1000) - start\n",
    "    for i in range(0,len(communities)):\n",
    "        for j in communities[i]:\n",
    "            result[j] = i\n",
    "    return \"eigenvector\", result, exec_time"
   ]
  },
  {
   "cell_type": "code",
   "execution_count": 5,
   "metadata": {
    "collapsed": true
   },
   "outputs": [],
   "source": [
    "def label_propagation(g):\n",
    "    result = []\n",
    "    for i in range(0,g.vcount()):\n",
    "        result.append(0)\n",
    "    start = round(time.time()* 1000)\n",
    "    communities = g.community_label_propagation()\n",
    "    exec_time = start = round(time.time()* 1000) - start\n",
    "    for i in range(0,len(communities)):\n",
    "        for j in communities[i]:\n",
    "            result[j] = i\n",
    "    return \"label_propagation\", result, exec_time"
   ]
  },
  {
   "cell_type": "code",
   "execution_count": 6,
   "metadata": {
    "collapsed": true
   },
   "outputs": [],
   "source": [
    "def multilevel(g):\n",
    "    result = []\n",
    "    for i in range(0,g.vcount()):\n",
    "        result.append(0)\n",
    "    start = round(time.time()* 1000)\n",
    "    communities = g.community_multilevel()\n",
    "    exec_time = start = round(time.time()* 1000) - start\n",
    "    for i in range(0,len(communities)):\n",
    "        for j in communities[i]:\n",
    "            result[j] = i\n",
    "    return \"multilevel\", result, exec_time"
   ]
  },
  {
   "cell_type": "code",
   "execution_count": 7,
   "metadata": {
    "collapsed": true
   },
   "outputs": [],
   "source": [
    "def edge_betweenness(g):\n",
    "    result = []\n",
    "    for i in range(0,g.vcount()):\n",
    "        result.append(0)\n",
    "    start = round(time.time()* 1000)\n",
    "    communities = g.community_edge_betweenness().as_clustering()\n",
    "    exec_time = start = round(time.time()* 1000) - start\n",
    "    for i in range(0,len(communities)):\n",
    "        for j in communities[i]:\n",
    "            result[j] = i\n",
    "    return \"edge_betweenness\", result, exec_time"
   ]
  },
  {
   "cell_type": "code",
   "execution_count": 8,
   "metadata": {
    "collapsed": true
   },
   "outputs": [],
   "source": [
    "def spinglass(g):\n",
    "    result = []\n",
    "    for i in range(0,g.vcount()):\n",
    "        result.append(0)\n",
    "    start = round(time.time()* 1000)\n",
    "    communities = g.community_spinglass()\n",
    "    exec_time = start = round(time.time()* 1000) - start\n",
    "    for i in range(0,len(communities)):\n",
    "        for j in communities[i]:\n",
    "            result[j] = i\n",
    "    return \"spinglass\", result, exec_time"
   ]
  },
  {
   "cell_type": "code",
   "execution_count": 9,
   "metadata": {
    "collapsed": true
   },
   "outputs": [],
   "source": [
    "def walktrap(g):\n",
    "    result = []\n",
    "    for i in range(0,g.vcount()):\n",
    "        result.append(0)\n",
    "    start = round(time.time()* 1000)\n",
    "    communities = g.community_walktrap().as_clustering()\n",
    "    exec_time = start = round(time.time()* 1000) - start\n",
    "    for i in range(0,len(communities)):\n",
    "        for j in communities[i]:\n",
    "            result[j] = i\n",
    "    return \"walktrap\", result, exec_time"
   ]
  },
  {
   "cell_type": "code",
   "execution_count": 10,
   "metadata": {
    "collapsed": true
   },
   "outputs": [],
   "source": [
    "algorithms = [fast_greedy, eigenvector, label_propagation, multilevel, edge_betweenness, spinglass, walktrap]\n",
    "times = []\n",
    "for instance in instances:\n",
    "    for algorithm in algorithms:\n",
    "        name, result, exec_time = algorithm(instance[\"graph\"])\n",
    "        with open(\"content/%s/community_%s\"%(name, instance['file']), \"w+\") as fp:\n",
    "            fp.write(str(result))\n",
    "            times.append((name, instance[\"file\"],exec_time))\n",
    "with open(\"content/times.txt\", \"w+\") as fp:\n",
    "    writer = csv.writer(fp, delimiter=',')\n",
    "    writer.writerow([\"Algorithm\",\"Instance\",\"Time(ms)\"])\n",
    "    for t in times:\n",
    "        writer.writerow(t)"
   ]
  },
  {
   "cell_type": "code",
   "execution_count": 11,
   "metadata": {},
   "outputs": [
    {
     "data": {
      "text/plain": [
       "[('fast_greedy', '1000_0.3network.txt', 80),\n",
       " ('eigenvector', '1000_0.3network.txt', 870),\n",
       " ('label_propagation', '1000_0.3network.txt', 3),\n",
       " ('multilevel', '1000_0.3network.txt', 75),\n",
       " ('edge_betweenness', '1000_0.3network.txt', 929689),\n",
       " ('spinglass', '1000_0.3network.txt', 21189),\n",
       " ('walktrap', '1000_0.3network.txt', 324),\n",
       " ('fast_greedy', '1000_0.8network.txt', 145),\n",
       " ('eigenvector', '1000_0.8network.txt', 420),\n",
       " ('label_propagation', '1000_0.8network.txt', 4),\n",
       " ('multilevel', '1000_0.8network.txt', 31),\n",
       " ('edge_betweenness', '1000_0.8network.txt', 2603402),\n",
       " ('spinglass', '1000_0.8network.txt', 44934),\n",
       " ('walktrap', '1000_0.8network.txt', 414),\n",
       " ('fast_greedy', '1000_0.4network.txt', 82),\n",
       " ('eigenvector', '1000_0.4network.txt', 719),\n",
       " ('label_propagation', '1000_0.4network.txt', 4),\n",
       " ('multilevel', '1000_0.4network.txt', 12),\n",
       " ('edge_betweenness', '1000_0.4network.txt', 1293816),\n",
       " ('spinglass', '1000_0.4network.txt', 18105),\n",
       " ('walktrap', '1000_0.4network.txt', 289),\n",
       " ('fast_greedy', '500_0.6network.txt', 30),\n",
       " ('eigenvector', '500_0.6network.txt', 177),\n",
       " ('label_propagation', '500_0.6network.txt', 2),\n",
       " ('multilevel', '500_0.6network.txt', 8),\n",
       " ('edge_betweenness', '500_0.6network.txt', 316304),\n",
       " ('spinglass', '500_0.6network.txt', 9324),\n",
       " ('walktrap', '500_0.6network.txt', 93),\n",
       " ('fast_greedy', '1000_0.5network.txt', 89),\n",
       " ('eigenvector', '1000_0.5network.txt', 741),\n",
       " ('label_propagation', '1000_0.5network.txt', 5),\n",
       " ('multilevel', '1000_0.5network.txt', 16),\n",
       " ('edge_betweenness', '1000_0.5network.txt', 2098782),\n",
       " ('spinglass', '1000_0.5network.txt', 22104),\n",
       " ('walktrap', '1000_0.5network.txt', 326),\n",
       " ('fast_greedy', '1000_0.7network.txt', 120),\n",
       " ('eigenvector', '1000_0.7network.txt', 377),\n",
       " ('label_propagation', '1000_0.7network.txt', 3),\n",
       " ('multilevel', '1000_0.7network.txt', 31),\n",
       " ('edge_betweenness', '1000_0.7network.txt', 2522520),\n",
       " ('spinglass', '1000_0.7network.txt', 31784),\n",
       " ('walktrap', '1000_0.7network.txt', 355),\n",
       " ('fast_greedy', '1000_0.6network.txt', 114),\n",
       " ('eigenvector', '1000_0.6network.txt', 369),\n",
       " ('label_propagation', '1000_0.6network.txt', 6),\n",
       " ('multilevel', '1000_0.6network.txt', 18),\n",
       " ('edge_betweenness', '1000_0.6network.txt', 2400315),\n",
       " ('spinglass', '1000_0.6network.txt', 27019),\n",
       " ('walktrap', '1000_0.6network.txt', 324),\n",
       " ('fast_greedy', '500_0.4network.txt', 22),\n",
       " ('eigenvector', '500_0.4network.txt', 294),\n",
       " ('label_propagation', '500_0.4network.txt', 1),\n",
       " ('multilevel', '500_0.4network.txt', 6),\n",
       " ('edge_betweenness', '500_0.4network.txt', 186617),\n",
       " ('spinglass', '500_0.4network.txt', 8531),\n",
       " ('walktrap', '500_0.4network.txt', 85),\n",
       " ('fast_greedy', '500_0.7network.txt', 33),\n",
       " ('eigenvector', '500_0.7network.txt', 172),\n",
       " ('label_propagation', '500_0.7network.txt', 2),\n",
       " ('multilevel', '500_0.7network.txt', 14),\n",
       " ('edge_betweenness', '500_0.7network.txt', 278364),\n",
       " ('spinglass', '500_0.7network.txt', 19857),\n",
       " ('walktrap', '500_0.7network.txt', 98),\n",
       " ('fast_greedy', '500_0.8network.txt', 31),\n",
       " ('eigenvector', '500_0.8network.txt', 215),\n",
       " ('label_propagation', '500_0.8network.txt', 2),\n",
       " ('multilevel', '500_0.8network.txt', 13),\n",
       " ('edge_betweenness', '500_0.8network.txt', 278199),\n",
       " ('spinglass', '500_0.8network.txt', 19883),\n",
       " ('walktrap', '500_0.8network.txt', 105),\n",
       " ('fast_greedy', '500_0.5network.txt', 30),\n",
       " ('eigenvector', '500_0.5network.txt', 174),\n",
       " ('label_propagation', '500_0.5network.txt', 2),\n",
       " ('multilevel', '500_0.5network.txt', 6),\n",
       " ('edge_betweenness', '500_0.5network.txt', 254959),\n",
       " ('spinglass', '500_0.5network.txt', 9949),\n",
       " ('walktrap', '500_0.5network.txt', 87)]"
      ]
     },
     "execution_count": 11,
     "metadata": {},
     "output_type": "execute_result"
    }
   ],
   "source": [
    "times"
   ]
  }
 ],
 "metadata": {
  "kernelspec": {
   "display_name": "Python 3",
   "language": "python",
   "name": "python3"
  },
  "language_info": {
   "codemirror_mode": {
    "name": "ipython",
    "version": 3
   },
   "file_extension": ".py",
   "mimetype": "text/x-python",
   "name": "python",
   "nbconvert_exporter": "python",
   "pygments_lexer": "ipython3",
   "version": "3.6.2"
  }
 },
 "nbformat": 4,
 "nbformat_minor": 2
}
