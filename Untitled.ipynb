{
 "cells": [
  {
   "cell_type": "code",
   "execution_count": 1,
   "metadata": {},
   "outputs": [],
   "source": [
    "from igraph import *\n",
    "from os import listdir\n",
    "from os.path import isfile, join"
   ]
  },
  {
   "cell_type": "code",
   "execution_count": 2,
   "metadata": {
    "collapsed": true
   },
   "outputs": [],
   "source": [
    "instances=[]\n",
    "for file in [f for f in listdir(\"graphs/test/\") if isfile(join(\"graphs/test/\", f))]:\n",
    "    G = Graph()\n",
    "    filepath=\"graphs/test/\"+file\n",
    "    with open(filepath) as fp:  \n",
    "        line = fp.readline()\n",
    "        num_vertex = int(line.strip().split(\" \")[0])\n",
    "        for i in range(0,num_vertex):\n",
    "            G.add_vertex(i)\n",
    "        while line:\n",
    "            line = fp.readline()\n",
    "            if not line:\n",
    "                break\n",
    "            edge = line.strip().split(\" \")\n",
    "            A = int(edge[0])\n",
    "            B = int(edge[1])\n",
    "            if not G.are_connected(A,B):\n",
    "                G.add_edge(A,B)\n",
    "    instances.append({ \"file\": file, \"graph\": G})"
   ]
  },
  {
   "cell_type": "code",
   "execution_count": 3,
   "metadata": {
    "collapsed": true
   },
   "outputs": [],
   "source": [
    "def fast_greedy(g):\n",
    "    result = []\n",
    "    for i in range(0,g.vcount()):\n",
    "        result.append(0)\n",
    "    communities = g.community_fastgreedy().as_clustering()\n",
    "    for i in range(0,len(communities)):\n",
    "        for j in communities[i]:\n",
    "            result[j] = i\n",
    "    return \"fast_greedy\", result"
   ]
  },
  {
   "cell_type": "code",
   "execution_count": 15,
   "metadata": {
    "collapsed": true
   },
   "outputs": [],
   "source": [
    "def eigenvector(g):\n",
    "    result = []\n",
    "    for i in range(0,g.vcount()):\n",
    "        result.append(0)\n",
    "    communities = g.community_leading_eigenvector()\n",
    "    for i in range(0,len(communities)):\n",
    "        for j in communities[i]:\n",
    "            result[j] = i\n",
    "    return result"
   ]
  },
  {
   "cell_type": "code",
   "execution_count": 21,
   "metadata": {
    "collapsed": true
   },
   "outputs": [],
   "source": [
    "def label_propagation(g):\n",
    "    result = []\n",
    "    for i in range(0,g.vcount()):\n",
    "        result.append(0)\n",
    "    communities = g.community_label_propagation()\n",
    "    for i in range(0,len(communities)):\n",
    "        for j in communities[i]:\n",
    "            result[j] = i\n",
    "    return result"
   ]
  },
  {
   "cell_type": "code",
   "execution_count": 23,
   "metadata": {
    "collapsed": true
   },
   "outputs": [],
   "source": [
    "def multilevel(g):\n",
    "    result = []\n",
    "    for i in range(0,g.vcount()):\n",
    "        result.append(0)\n",
    "    communities = g.community_multilevel()\n",
    "    for i in range(0,len(communities)):\n",
    "        for j in communities[i]:\n",
    "            result[j] = i\n",
    "    return result"
   ]
  },
  {
   "cell_type": "code",
   "execution_count": 33,
   "metadata": {
    "collapsed": true
   },
   "outputs": [],
   "source": [
    "def edge_betweenness(g):\n",
    "    result = []\n",
    "    for i in range(0,g.vcount()):\n",
    "        result.append(0)\n",
    "    communities = g.community_edge_betweenness().as_clustering()\n",
    "    for i in range(0,len(communities)):\n",
    "        for j in communities[i]:\n",
    "            result[j] = i\n",
    "    return result"
   ]
  },
  {
   "cell_type": "code",
   "execution_count": 34,
   "metadata": {},
   "outputs": [],
   "source": [
    "algorithms = [fast_greedy, eigenvector, label_propagation, multilevel, edge_betweenness]\n",
    "for instance in instances:\n",
    "    result = edge_betweenness(instance[\"graph\"])\n",
    "    with open(\"content/edge_betweenness/community_%s\"%instance['file'], \"w+\") as fp:\n",
    "        fp.write(str(result))"
   ]
  }
 ],
 "metadata": {
  "kernelspec": {
   "display_name": "Python 3",
   "language": "python",
   "name": "python3"
  },
  "language_info": {
   "codemirror_mode": {
    "name": "ipython",
    "version": 3
   },
   "file_extension": ".py",
   "mimetype": "text/x-python",
   "name": "python",
   "nbconvert_exporter": "python",
   "pygments_lexer": "ipython3",
   "version": "3.6.2"
  }
 },
 "nbformat": 4,
 "nbformat_minor": 2
}
