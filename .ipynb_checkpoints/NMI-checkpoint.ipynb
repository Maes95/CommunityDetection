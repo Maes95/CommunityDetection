{
 "cells": [
  {
   "cell_type": "code",
   "execution_count": 13,
   "metadata": {
    "colab": {
     "base_uri": "https://localhost:8080/",
     "height": 35346
    },
    "colab_type": "code",
    "id": "IvEYZKSOZOca",
    "outputId": "746b7a93-c7f3-45c8-d569-606b9254a63c"
   },
   "outputs": [
    {
     "name": "stdout",
     "output_type": "stream",
     "text": [
      "/home/michel/Documents/MasterDataScience/CommunityDetection\n"
     ]
    }
   ],
   "source": [
    "import sklearn as sk\n",
    "import sklearn.metrics\n",
    "import pandas as pd\n",
    "import ast\n",
    "import os\n",
    "import re\n",
    "from os import listdir\n",
    "from os.path import isfile, join, isdir\n",
    "from collections import defaultdict\n",
    "regex = re.compile('community_*.*.dat')\n",
    "dir_ = \"content/\"\n",
    "ground_truth_dir=dir_+\"ground_truth/\"\n",
    "alg_folder=dir_+\"algorithms_results/\"\n",
    "print(os.getcwd())"
   ]
  },
  {
   "cell_type": "code",
   "execution_count": 49,
   "metadata": {},
   "outputs": [
    {
     "ename": "TypeError",
     "evalue": "'NoneType' object is not iterable",
     "output_type": "error",
     "traceback": [
      "\u001b[0;31m---------------------------------------------------------------------------\u001b[0m",
      "\u001b[0;31mTypeError\u001b[0m                                 Traceback (most recent call last)",
      "\u001b[0;32m<ipython-input-49-8d301ab210f8>\u001b[0m in \u001b[0;36m<module>\u001b[0;34m()\u001b[0m\n\u001b[1;32m      1\u001b[0m \u001b[0mdf_to_save\u001b[0m \u001b[0;34m=\u001b[0m \u001b[0;34m{\u001b[0m\u001b[0;34m\"Instances\"\u001b[0m\u001b[0;34m:\u001b[0m\u001b[0;34m[\u001b[0m\u001b[0;34m]\u001b[0m\u001b[0;34m}\u001b[0m\u001b[0;34m\u001b[0m\u001b[0m\n\u001b[0;32m----> 2\u001b[0;31m \u001b[0;32mfor\u001b[0m \u001b[0mfn\u001b[0m \u001b[0;32min\u001b[0m \u001b[0;34m[\u001b[0m\u001b[0mf\u001b[0m \u001b[0;32mfor\u001b[0m \u001b[0mf\u001b[0m \u001b[0;32min\u001b[0m \u001b[0mlistdir\u001b[0m\u001b[0;34m(\u001b[0m\u001b[0mground_truth_dir\u001b[0m\u001b[0;34m)\u001b[0m \u001b[0;32mif\u001b[0m \u001b[0misfile\u001b[0m\u001b[0;34m(\u001b[0m\u001b[0mjoin\u001b[0m\u001b[0;34m(\u001b[0m\u001b[0mground_truth_dir\u001b[0m\u001b[0;34m,\u001b[0m \u001b[0mf\u001b[0m\u001b[0;34m)\u001b[0m\u001b[0;34m)\u001b[0m\u001b[0;34m]\u001b[0m\u001b[0;34m.\u001b[0m\u001b[0msort\u001b[0m\u001b[0;34m(\u001b[0m\u001b[0;34m)\u001b[0m\u001b[0;34m:\u001b[0m\u001b[0;34m\u001b[0m\u001b[0m\n\u001b[0m\u001b[1;32m      3\u001b[0m     \u001b[0mfilepath\u001b[0m\u001b[0;34m=\u001b[0m\u001b[0mground_truth_dir\u001b[0m\u001b[0;34m+\u001b[0m\u001b[0mfn\u001b[0m\u001b[0;34m\u001b[0m\u001b[0m\n\u001b[1;32m      4\u001b[0m     \u001b[0mprint\u001b[0m\u001b[0;34m(\u001b[0m\u001b[0;34m'Reading \"{name}\"...'\u001b[0m\u001b[0;34m.\u001b[0m\u001b[0mformat\u001b[0m\u001b[0;34m(\u001b[0m\u001b[0mname\u001b[0m\u001b[0;34m=\u001b[0m\u001b[0mfn\u001b[0m\u001b[0;34m)\u001b[0m\u001b[0;34m)\u001b[0m\u001b[0;34m\u001b[0m\u001b[0m\n\u001b[1;32m      5\u001b[0m     \u001b[0msize\u001b[0m \u001b[0;34m=\u001b[0m \u001b[0mint\u001b[0m\u001b[0;34m(\u001b[0m\u001b[0mfn\u001b[0m\u001b[0;34m.\u001b[0m\u001b[0msplit\u001b[0m\u001b[0;34m(\u001b[0m\u001b[0;34m\"_\"\u001b[0m\u001b[0;34m)\u001b[0m\u001b[0;34m[\u001b[0m\u001b[0;36m1\u001b[0m\u001b[0;34m]\u001b[0m\u001b[0;34m)\u001b[0m\u001b[0;34m\u001b[0m\u001b[0m\n",
      "\u001b[0;31mTypeError\u001b[0m: 'NoneType' object is not iterable"
     ]
    }
   ],
   "source": [
    "df_to_save = {\"Instances\":[]}\n",
    "for fn in sorted([f for f in listdir(ground_truth_dir) if isfile(join(ground_truth_dir, f))]):\n",
    "    filepath=ground_truth_dir+fn\n",
    "    print('Reading \"{name}\"...'.format(name=fn))\n",
    "    size = int(fn.split(\"_\")[1])\n",
    "    nodes_in_community_gt = [0]*size\n",
    "    df = pd.read_csv(filepath, sep='\\t', header=None, engine = 'python')\n",
    "\n",
    "    for i in range(0, df.shape[0]):\n",
    "        nodes_in_community_gt[df.loc[i, 0]-1] = df.loc[i,1]\n",
    "    \n",
    "    df_to_save[\"Instances\"].append(fn.split(\".dat\")[0])\n",
    "    \n",
    "    for alg, alg_dir in [(f,join(alg_folder,f)) for f in listdir(alg_folder) if isdir(join(alg_folder, f))]:\n",
    "        fileToCompare = join(alg_dir,fn.split(\".dat\")[0]+\"network.txt\")\n",
    "        if not alg in df_to_save:\n",
    "            df_to_save[alg] = []\n",
    "        nmi = -1.0\n",
    "        if isfile(fileToCompare):\n",
    "            maxNMI = 0.0;\n",
    "            with open(fileToCompare, 'r') as f:\n",
    "                sol = f.readline()\n",
    "                while sol:\n",
    "                    mysol = ast.literal_eval(sol)\n",
    "                    #print(\"Evaluating \"+str(mysol)+\" with gt \"+str(nodes_in_community_gt))\n",
    "                    actNMI = sk.metrics.normalized_mutual_info_score(nodes_in_community_gt, mysol)\n",
    "                    print(\"   |-> \"+alg+\"-> NMI: \"+str(actNMI))\n",
    "                    if(actNMI > maxNMI):\n",
    "                        maxNMI = actNMI\n",
    "                        bestSol = mysol\n",
    "                    sol = f.readline()\n",
    "            nmi = maxNMI\n",
    "            #fileToSave = alg_dir+fn.split(\".dat\")[0]+\"_MyBestSol.txt\"\n",
    "            #with open(fileToSave, 'w+') as fts:\n",
    "            #    fts.write(str(bestSol)+\" NMI: \"+str(maxNMI))\n",
    "            #nodes_in_community_gt.clear()\n",
    "        else:\n",
    "            print(\"   |-> No %s network for %s\"%(alg,fn))\n",
    "        df_to_save[alg].append(nmi)\n",
    "pd.DataFrame(df_to_save).to_csv(dir_+\"NMI_results.csv\", sep=\",\", index=False)"
   ]
  }
 ],
 "metadata": {
  "colab": {
   "collapsed_sections": [],
   "name": "NMI.ipynb",
   "provenance": [],
   "version": "0.3.2"
  },
  "kernelspec": {
   "display_name": "Python 3",
   "language": "python",
   "name": "python3"
  },
  "language_info": {
   "codemirror_mode": {
    "name": "ipython",
    "version": 3
   },
   "file_extension": ".py",
   "mimetype": "text/x-python",
   "name": "python",
   "nbconvert_exporter": "python",
   "pygments_lexer": "ipython3",
   "version": "3.6.2"
  }
 },
 "nbformat": 4,
 "nbformat_minor": 1
}
